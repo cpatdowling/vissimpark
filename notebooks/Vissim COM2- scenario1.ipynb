{
 "cells": [
  {
   "cell_type": "code",
   "execution_count": 1,
   "metadata": {},
   "outputs": [],
   "source": [
    "import win32com.client as com\n",
    "import os\n",
    "import matplotlib.pyplot as plt\n",
    "import pandas as pd\n",
    "import seaborn as sns"
   ]
  },
  {
   "cell_type": "code",
   "execution_count": 2,
   "metadata": {},
   "outputs": [],
   "source": [
    "## Connecting the COM Server => Open a new Vissim Window:\n",
    "Vissim = com.Dispatch(\"Vissim.Vissim\")\n"
   ]
  },
  {
   "cell_type": "code",
   "execution_count": 3,
   "metadata": {},
   "outputs": [
    {
     "ename": "com_error",
     "evalue": "(-2147352567, 'Exception occurred.', (0, 'VISSIM.Vissim.2100', 'The layout file does not exist.', None, 0, -2147352567), None)",
     "output_type": "error",
     "traceback": [
      "\u001b[1;31m---------------------------------------------------------------------------\u001b[0m",
      "\u001b[1;31mcom_error\u001b[0m                                 Traceback (most recent call last)",
      "\u001b[1;32m<ipython-input-3-f4ee91c1529e>\u001b[0m in \u001b[0;36m<module>\u001b[1;34m\u001b[0m\n\u001b[0;32m      2\u001b[0m \u001b[1;31m# Locat path where the file is\u001b[0m\u001b[1;33m\u001b[0m\u001b[1;33m\u001b[0m\u001b[1;33m\u001b[0m\u001b[0m\n\u001b[0;32m      3\u001b[0m \u001b[0mVissim\u001b[0m\u001b[1;33m.\u001b[0m\u001b[0mLoadNet\u001b[0m\u001b[1;33m(\u001b[0m\u001b[1;34mr'C:\\Users\\chase\\Documents\\vissimpark\\SLU_example\\\\SLU-fnl-baseline.inpx'\u001b[0m\u001b[1;33m)\u001b[0m\u001b[1;33m\u001b[0m\u001b[1;33m\u001b[0m\u001b[0m\n\u001b[1;32m----> 4\u001b[1;33m \u001b[0mVissim\u001b[0m\u001b[1;33m.\u001b[0m\u001b[0mLoadLayout\u001b[0m\u001b[1;33m(\u001b[0m\u001b[1;34mr'C:\\Users\\chase\\Documents\\vissimpark\\SLU_example\\\\SLU-fnl-baseline.layx'\u001b[0m \u001b[1;33m)\u001b[0m\u001b[1;33m\u001b[0m\u001b[1;33m\u001b[0m\u001b[0m\n\u001b[0m",
      "\u001b[1;32mC:\\ProgramData\\Anaconda3\\lib\\site-packages\\win32com\\client\\dynamic.py\u001b[0m in \u001b[0;36mLoadLayout\u001b[1;34m(self, LayoutPath)\u001b[0m\n",
      "\u001b[1;32mC:\\ProgramData\\Anaconda3\\lib\\site-packages\\win32com\\client\\dynamic.py\u001b[0m in \u001b[0;36m_ApplyTypes_\u001b[1;34m(self, dispid, wFlags, retType, argTypes, user, resultCLSID, *args)\u001b[0m\n\u001b[0;32m    285\u001b[0m \u001b[1;33m\u001b[0m\u001b[0m\n\u001b[0;32m    286\u001b[0m         \u001b[1;32mdef\u001b[0m \u001b[0m_ApplyTypes_\u001b[0m\u001b[1;33m(\u001b[0m\u001b[0mself\u001b[0m\u001b[1;33m,\u001b[0m \u001b[0mdispid\u001b[0m\u001b[1;33m,\u001b[0m \u001b[0mwFlags\u001b[0m\u001b[1;33m,\u001b[0m \u001b[0mretType\u001b[0m\u001b[1;33m,\u001b[0m \u001b[0margTypes\u001b[0m\u001b[1;33m,\u001b[0m \u001b[0muser\u001b[0m\u001b[1;33m,\u001b[0m \u001b[0mresultCLSID\u001b[0m\u001b[1;33m,\u001b[0m \u001b[1;33m*\u001b[0m\u001b[0margs\u001b[0m\u001b[1;33m)\u001b[0m\u001b[1;33m:\u001b[0m\u001b[1;33m\u001b[0m\u001b[1;33m\u001b[0m\u001b[0m\n\u001b[1;32m--> 287\u001b[1;33m                 \u001b[0mresult\u001b[0m \u001b[1;33m=\u001b[0m \u001b[0mself\u001b[0m\u001b[1;33m.\u001b[0m\u001b[0m_oleobj_\u001b[0m\u001b[1;33m.\u001b[0m\u001b[0mInvokeTypes\u001b[0m\u001b[1;33m(\u001b[0m\u001b[1;33m*\u001b[0m\u001b[1;33m(\u001b[0m\u001b[0mdispid\u001b[0m\u001b[1;33m,\u001b[0m \u001b[0mLCID\u001b[0m\u001b[1;33m,\u001b[0m \u001b[0mwFlags\u001b[0m\u001b[1;33m,\u001b[0m \u001b[0mretType\u001b[0m\u001b[1;33m,\u001b[0m \u001b[0margTypes\u001b[0m\u001b[1;33m)\u001b[0m \u001b[1;33m+\u001b[0m \u001b[0margs\u001b[0m\u001b[1;33m)\u001b[0m\u001b[1;33m\u001b[0m\u001b[1;33m\u001b[0m\u001b[0m\n\u001b[0m\u001b[0;32m    288\u001b[0m                 \u001b[1;32mreturn\u001b[0m \u001b[0mself\u001b[0m\u001b[1;33m.\u001b[0m\u001b[0m_get_good_object_\u001b[0m\u001b[1;33m(\u001b[0m\u001b[0mresult\u001b[0m\u001b[1;33m,\u001b[0m \u001b[0muser\u001b[0m\u001b[1;33m,\u001b[0m \u001b[0mresultCLSID\u001b[0m\u001b[1;33m)\u001b[0m\u001b[1;33m\u001b[0m\u001b[1;33m\u001b[0m\u001b[0m\n\u001b[0;32m    289\u001b[0m \u001b[1;33m\u001b[0m\u001b[0m\n",
      "\u001b[1;31mcom_error\u001b[0m: (-2147352567, 'Exception occurred.', (0, 'VISSIM.Vissim.2100', 'The layout file does not exist.', None, 0, -2147352567), None)"
     ]
    }
   ],
   "source": [
    "# Loads the VISSIM file and opens it\n",
    "# Locat path where the file is\n",
    "Vissim.LoadNet(r'C:\\Users\\chase\\Documents\\vissimpark\\SLU_example\\\\SLU-fnl-baseline.inpx')\n",
    "Vissim.LoadLayout(r'C:\\Users\\chase\\Documents\\vissimpark\\SLU_example\\\\SLU-fnl-baseline.layx' )"
   ]
  },
  {
   "cell_type": "code",
   "execution_count": 4,
   "metadata": {},
   "outputs": [],
   "source": [
    "# Delete all previous simulation runs first:\n",
    "for simRun in Vissim.Net.SimulationRuns:\n",
    "    Vissim.Net.SimulationRuns.RemoveSimulationRun(simRun)"
   ]
  },
  {
   "cell_type": "code",
   "execution_count": 5,
   "metadata": {},
   "outputs": [
    {
     "ename": "KeyboardInterrupt",
     "evalue": "",
     "output_type": "error",
     "traceback": [
      "\u001b[1;31m---------------------------------------------------------------------------\u001b[0m",
      "\u001b[1;31mKeyboardInterrupt\u001b[0m                         Traceback (most recent call last)",
      "\u001b[1;32m<ipython-input-5-198c7bd2b418>\u001b[0m in \u001b[0;36m<module>\u001b[1;34m\u001b[0m\n\u001b[0;32m      1\u001b[0m \u001b[1;32mfor\u001b[0m \u001b[0mcnt_Sim\u001b[0m \u001b[1;32min\u001b[0m \u001b[0mrange\u001b[0m\u001b[1;33m(\u001b[0m\u001b[1;36m1\u001b[0m\u001b[1;33m)\u001b[0m\u001b[1;33m:\u001b[0m\u001b[1;33m\u001b[0m\u001b[1;33m\u001b[0m\u001b[0m\n\u001b[0;32m      2\u001b[0m     \u001b[0mVissim\u001b[0m\u001b[1;33m.\u001b[0m\u001b[0mSimulation\u001b[0m\u001b[1;33m.\u001b[0m\u001b[0mSetAttValue\u001b[0m\u001b[1;33m(\u001b[0m\u001b[1;34m'RandSeed'\u001b[0m\u001b[1;33m,\u001b[0m \u001b[0mcnt_Sim\u001b[0m \u001b[1;33m+\u001b[0m \u001b[1;36m1\u001b[0m\u001b[1;33m)\u001b[0m \u001b[1;31m# Note: RandSeed 0 is not allowed\u001b[0m\u001b[1;33m\u001b[0m\u001b[1;33m\u001b[0m\u001b[0m\n\u001b[1;32m----> 3\u001b[1;33m     \u001b[0mVissim\u001b[0m\u001b[1;33m.\u001b[0m\u001b[0mSimulation\u001b[0m\u001b[1;33m.\u001b[0m\u001b[0mRunContinuous\u001b[0m\u001b[1;33m(\u001b[0m\u001b[1;33m)\u001b[0m\u001b[1;33m\u001b[0m\u001b[1;33m\u001b[0m\u001b[0m\n\u001b[0m\u001b[0;32m      4\u001b[0m \u001b[1;33m\u001b[0m\u001b[0m\n\u001b[0;32m      5\u001b[0m \u001b[0mVissim\u001b[0m\u001b[1;33m.\u001b[0m\u001b[0mResumeUpdateGUI\u001b[0m\u001b[1;33m(\u001b[0m\u001b[1;32mTrue\u001b[0m\u001b[1;33m)\u001b[0m\u001b[1;33m;\u001b[0m \u001b[1;31m# allow updating of the complete Vissim workspace (network editor, list, chart and signal time table windows)\u001b[0m\u001b[1;33m\u001b[0m\u001b[1;33m\u001b[0m\u001b[0m\n",
      "\u001b[1;32mC:\\ProgramData\\Anaconda3\\lib\\site-packages\\win32com\\client\\dynamic.py\u001b[0m in \u001b[0;36mRunContinuous\u001b[1;34m(self)\u001b[0m\n",
      "\u001b[1;31mKeyboardInterrupt\u001b[0m: "
     ]
    }
   ],
   "source": [
    "for cnt_Sim in range(1):\n",
    "    Vissim.Simulation.SetAttValue('RandSeed', cnt_Sim + 1) # Note: RandSeed 0 is not allowed\n",
    "    Vissim.Simulation.RunContinuous()\n",
    "\n",
    "Vissim.ResumeUpdateGUI(True); # allow updating of the complete Vissim workspace (network editor, list, chart and signal time table windows)\n",
    "Vissim.Graphics.CurrentNetworkWindow.SetAttValue(\"QuickMode\",1) # activate QuickMode"
   ]
  },
  {
   "cell_type": "code",
   "execution_count": 6,
   "metadata": {},
   "outputs": [
    {
     "name": "stdout",
     "output_type": "stream",
     "text": [
      "2021-08-04 00:26:32 | 1 | 10800 \n",
      "2021-08-04 01:39:59 | 2 | 10800 \n",
      "2021-08-04 02:47:32 | 3 | 10800 \n",
      "2021-08-04 03:52:53 | 4 | 10800 \n",
      "2021-08-04 04:58:43 | 5 | 10800 \n",
      "2021-08-04 06:08:13 | 6 | 10800 \n",
      "2021-08-04 07:13:05 | 7 | 10800 \n",
      "2021-08-04 08:17:23 | 8 | 10800 \n",
      "2021-08-04 09:21:12 | 9 | 10800 \n",
      "2021-08-04 10:24:21 | 10 | 10800 \n",
      "2021-08-04 11:27:36 | 11 | 10800 \n",
      "2021-08-04 12:30:16 | 12 | 10800 \n",
      "2021-08-04 13:32:35 | 13 | 10800 \n",
      "2021-08-04 14:35:41 | 14 | 10800 \n",
      "2021-08-04 15:40:33 | 15 | 10800 \n",
      "2021-08-04 16:43:47 | 16 | 5528 \n"
     ]
    }
   ],
   "source": [
    "# List of all Simulation runs:\n",
    "Attributes      = ['Timestamp', 'RandSeed', 'SimEnd']\n",
    "number_of_runs  = Vissim.Net.SimulationRuns.Count\n",
    "List_Sim_Runs   = Vissim.Net.SimulationRuns.GetMultipleAttributes(Attributes)\n",
    "for cnt_S in range(number_of_runs):\n",
    "    print( '%s | %d | %d ' % (List_Sim_Runs[cnt_S][0], List_Sim_Runs[cnt_S][1], List_Sim_Runs[cnt_S][2]))\n"
   ]
  },
  {
   "cell_type": "code",
   "execution_count": 9,
   "metadata": {},
   "outputs": [],
   "source": [
    "# data collection measurement grouping is fuckin horseshit\n",
    "\n",
    "## ========================================================================\n",
    "# Results of Simulations:\n",
    "#==========================================================================\n",
    "# from data collection points\n",
    "No_Veh = []\n",
    "Speed = []\n",
    "Acceleration = []\n",
    "Occupancy = []\n",
    "dc=[]\n",
    "time=[]\n",
    "sim_run_list=[]\n",
    "# Data Collection\n",
    "num_dp = 4\n",
    "dc_measurements = [25,26,27,28,29,30,31,32] # one lane measurements (3 per blockface)\n",
    "dc_measurements = [1,2,3,33,34,35,36,37,38,39,40,41] # two lanes measurements\n",
    "\n",
    "for DC_measurement_number in dc_measurements:\n",
    "\n",
    "    DC_measurement = Vissim.Net.DataCollectionMeasurements.ItemByKey(DC_measurement_number)\n",
    "# Syntax to get the data:\n",
    "#   DC_measurement.AttValue('Vehs(sub_attribut_1, sub_attribut_2, sub_attribut_3)')\n",
    "#\n",
    "# sub_attribut_1: SimulationRun (same as described at Vehicle Travel Time Measurements)\n",
    "# sub_attribut_2: TimeInterval  (same as described at Vehicle Travel Time Measurements)\n",
    "# sub_attribut_3: VehicleClass  (same as described at Vehicle Travel Time Measurements)\n",
    "#\n",
    "# The value of on time interval is the arithmetic mean of all single values of the vehicles.\n",
    "\n",
    "# Example #1:\n",
    "# Average value of all simulations (1. input = Avg)\n",
    "# \tof the 1st time interval (2. input = 1)\n",
    "#   of all vehicle classes (3. input = All)\n",
    "    for sim_run in range(1,14):\n",
    "        for time_int in range(1,166):\n",
    "            vehicle_str = 'Vehs        ('+str(sim_run) +','+ str(time_int) + ',All)'\n",
    "            speed_str = 'Speed        ('+str(sim_run) +','+ str(time_int) + ',All)'\n",
    "            \n",
    "            #print(speed_str)\n",
    "            sim_run_list.append(sim_run)\n",
    "            dc.append(DC_measurement_number)\n",
    "            time.append(time_int)\n",
    "            No_Veh.append(DC_measurement.AttValue(vehicle_str)) # number of vehicles\n",
    "            Speed.append(DC_measurement.AttValue(speed_str)) # Speed of vehicles\n",
    "\n",
    "            \n",
    "df = pd.DataFrame(list(zip(time, dc, sim_run_list, No_Veh, Speed )),\n",
    "               columns =['Time', 'Data_Measurement','Sim_Run', 'No_Veh', 'Speed'])\n"
   ]
  },
  {
   "cell_type": "code",
   "execution_count": 10,
   "metadata": {},
   "outputs": [
    {
     "data": {
      "text/html": [
       "<div>\n",
       "<style scoped>\n",
       "    .dataframe tbody tr th:only-of-type {\n",
       "        vertical-align: middle;\n",
       "    }\n",
       "\n",
       "    .dataframe tbody tr th {\n",
       "        vertical-align: top;\n",
       "    }\n",
       "\n",
       "    .dataframe thead th {\n",
       "        text-align: right;\n",
       "    }\n",
       "</style>\n",
       "<table border=\"1\" class=\"dataframe\">\n",
       "  <thead>\n",
       "    <tr style=\"text-align: right;\">\n",
       "      <th></th>\n",
       "      <th>Time</th>\n",
       "      <th>Data_Measurement</th>\n",
       "      <th>Sim_Run</th>\n",
       "      <th>No_Veh</th>\n",
       "      <th>Speed</th>\n",
       "    </tr>\n",
       "  </thead>\n",
       "  <tbody>\n",
       "    <tr>\n",
       "      <th>0</th>\n",
       "      <td>1</td>\n",
       "      <td>1</td>\n",
       "      <td>1</td>\n",
       "      <td>8</td>\n",
       "      <td>23.893990</td>\n",
       "    </tr>\n",
       "    <tr>\n",
       "      <th>1</th>\n",
       "      <td>2</td>\n",
       "      <td>1</td>\n",
       "      <td>1</td>\n",
       "      <td>5</td>\n",
       "      <td>18.973178</td>\n",
       "    </tr>\n",
       "    <tr>\n",
       "      <th>2</th>\n",
       "      <td>3</td>\n",
       "      <td>1</td>\n",
       "      <td>1</td>\n",
       "      <td>6</td>\n",
       "      <td>19.367767</td>\n",
       "    </tr>\n",
       "    <tr>\n",
       "      <th>3</th>\n",
       "      <td>4</td>\n",
       "      <td>1</td>\n",
       "      <td>1</td>\n",
       "      <td>3</td>\n",
       "      <td>28.182006</td>\n",
       "    </tr>\n",
       "    <tr>\n",
       "      <th>4</th>\n",
       "      <td>5</td>\n",
       "      <td>1</td>\n",
       "      <td>1</td>\n",
       "      <td>5</td>\n",
       "      <td>23.686309</td>\n",
       "    </tr>\n",
       "    <tr>\n",
       "      <th>...</th>\n",
       "      <td>...</td>\n",
       "      <td>...</td>\n",
       "      <td>...</td>\n",
       "      <td>...</td>\n",
       "      <td>...</td>\n",
       "    </tr>\n",
       "    <tr>\n",
       "      <th>25735</th>\n",
       "      <td>161</td>\n",
       "      <td>41</td>\n",
       "      <td>13</td>\n",
       "      <td>4</td>\n",
       "      <td>21.009123</td>\n",
       "    </tr>\n",
       "    <tr>\n",
       "      <th>25736</th>\n",
       "      <td>162</td>\n",
       "      <td>41</td>\n",
       "      <td>13</td>\n",
       "      <td>1</td>\n",
       "      <td>21.212228</td>\n",
       "    </tr>\n",
       "    <tr>\n",
       "      <th>25737</th>\n",
       "      <td>163</td>\n",
       "      <td>41</td>\n",
       "      <td>13</td>\n",
       "      <td>5</td>\n",
       "      <td>18.244228</td>\n",
       "    </tr>\n",
       "    <tr>\n",
       "      <th>25738</th>\n",
       "      <td>164</td>\n",
       "      <td>41</td>\n",
       "      <td>13</td>\n",
       "      <td>9</td>\n",
       "      <td>20.178368</td>\n",
       "    </tr>\n",
       "    <tr>\n",
       "      <th>25739</th>\n",
       "      <td>165</td>\n",
       "      <td>41</td>\n",
       "      <td>13</td>\n",
       "      <td>6</td>\n",
       "      <td>21.806469</td>\n",
       "    </tr>\n",
       "  </tbody>\n",
       "</table>\n",
       "<p>25740 rows × 5 columns</p>\n",
       "</div>"
      ],
      "text/plain": [
       "       Time  Data_Measurement  Sim_Run  No_Veh      Speed\n",
       "0         1                 1        1       8  23.893990\n",
       "1         2                 1        1       5  18.973178\n",
       "2         3                 1        1       6  19.367767\n",
       "3         4                 1        1       3  28.182006\n",
       "4         5                 1        1       5  23.686309\n",
       "...     ...               ...      ...     ...        ...\n",
       "25735   161                41       13       4  21.009123\n",
       "25736   162                41       13       1  21.212228\n",
       "25737   163                41       13       5  18.244228\n",
       "25738   164                41       13       9  20.178368\n",
       "25739   165                41       13       6  21.806469\n",
       "\n",
       "[25740 rows x 5 columns]"
      ]
     },
     "execution_count": 10,
     "metadata": {},
     "output_type": "execute_result"
    }
   ],
   "source": [
    "df"
   ]
  },
  {
   "cell_type": "code",
   "execution_count": 23,
   "metadata": {},
   "outputs": [],
   "source": [
    "import matplotlib.pyplot as plt\n",
    "import numpy as np"
   ]
  },
  {
   "cell_type": "code",
   "execution_count": 27,
   "metadata": {},
   "outputs": [],
   "source": [
    "single_df = df.loc[df['Data_Measurement'] == 2]"
   ]
  },
  {
   "cell_type": "code",
   "execution_count": 28,
   "metadata": {},
   "outputs": [
    {
     "data": {
      "image/png": "[encoded data removed]",
      "text/plain": [
       "<Figure size 432x288 with 1 Axes>"
      ]
     },
     "metadata": {
      "needs_background": "light"
     },
     "output_type": "display_data"
    }
   ],
   "source": [
    "plt.scatter(single_df[\"No_Veh\"].values, single_df[\"Speed\"].values)\n",
    "plt.xlabel(\"No_Veh\")\n",
    "plt.ylabel(\"Speed\")\n",
    "plt.show()"
   ]
  },
  {
   "cell_type": "code",
   "execution_count": 29,
   "metadata": {},
   "outputs": [],
   "source": [
    "speed_means = {}\n",
    "for pair in zip(list(single_df[\"No_Veh\"].values), list(single_df[\"Speed\"].values)):\n",
    "    if pair[0] not in speed_means:\n",
    "        speed_means[pair[0]] = [pair[1]]\n",
    "    else:\n",
    "        speed_means[pair[0]].append(pair[1])\n",
    "        \n",
    "for item in speed_means:\n",
    "    speed_means[item] = np.mean(speed_means[item])"
   ]
  },
  {
   "cell_type": "code",
   "execution_count": 30,
   "metadata": {},
   "outputs": [],
   "source": [
    "num_veh = []\n",
    "mean_speed = []\n",
    "for item in speed_means:\n",
    "    num_veh.append(item)\n",
    "    mean_speed.append(item)"
   ]
  },
  {
   "cell_type": "code",
   "execution_count": 31,
   "metadata": {},
   "outputs": [
    {
     "data": {
      "image/png": "[encoded data removed]",
      "text/plain": [
       "<Figure size 432x288 with 1 Axes>"
      ]
     },
     "metadata": {
      "needs_background": "light"
     },
     "output_type": "display_data"
    }
   ],
   "source": [
    "plt.scatter(num_veh, mean_speed)\n",
    "plt.xlabel(\"No_Veh\")\n",
    "plt.ylabel(\"Mean Speed\")\n",
    "plt.show()"
   ]
  },
  {
   "cell_type": "code",
   "execution_count": null,
   "metadata": {},
   "outputs": [],
   "source": [
    "df.to_csv('Parking5.csv', index=False)"
   ]
  },
  {
   "cell_type": "code",
   "execution_count": 17,
   "metadata": {},
   "outputs": [],
   "source": [
    "## ========================================================================\n",
    "# Saving\n",
    "#==========================================================================\n",
    "Vissim.SaveNetAs(r'C:\\Users\\sgunes\\Documents\\\\DOE PNNL Curbspace project\\\\VISSIM\\\\Scenario1 - Copy\\\\VISSIM\\\\SLU-fnl-baseline.inpx')\n",
    "Vissim.SaveLayoutr'C:\\Users\\sgunes\\Documents\\\\DOE PNNL Curbspace project\\\\VISSIM\\\\Scenario1 - Copy\\\\VISSIM\\\\SLU-fnl-baseline.layx'')\n",
    "\n",
    "## ========================================================================\n",
    "# End Vissim\n",
    "#==========================================================================\n",
    "Vissim = None\n"
   ]
  },
  {
   "cell_type": "code",
   "execution_count": null,
   "metadata": {},
   "outputs": [],
   "source": []
  }
 ],
 "metadata": {
  "kernelspec": {
   "display_name": "Python 3",
   "language": "python",
   "name": "python3"
  },
  "language_info": {
   "codemirror_mode": {
    "name": "ipython",
    "version": 3
   },
   "file_extension": ".py",
   "mimetype": "text/x-python",
   "name": "python",
   "nbconvert_exporter": "python",
   "pygments_lexer": "ipython3",
   "version": "3.8.8"
  }
 },
 "nbformat": 4,
 "nbformat_minor": 4
}
