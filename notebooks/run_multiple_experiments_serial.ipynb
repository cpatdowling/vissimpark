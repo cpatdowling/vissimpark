{
 "cells": [
  {
   "cell_type": "code",
   "execution_count": 1,
   "id": "4c1976dc",
   "metadata": {},
   "outputs": [],
   "source": [
    "import win32com.client as com\n",
    "import os"
   ]
  },
  {
   "cell_type": "code",
   "execution_count": 2,
   "id": "973c7189",
   "metadata": {},
   "outputs": [],
   "source": [
    "#run sequence of experiment directories\n",
    "\n",
    "experiment_directory = \"C:\\\\Users\\chase\\\\Documents\\\\vissimpark\\\\VISSIM_configs\\\\baseline prototype\\\\single_volume_runs\"\n",
    "\n",
    "exps = os.listdir(experiment_directory)"
   ]
  },
  {
   "cell_type": "code",
   "execution_count": 3,
   "id": "96c6f2eb",
   "metadata": {},
   "outputs": [
    {
     "data": {
      "text/plain": [
       "'C:\\\\Users\\\\chase\\\\Documents\\\\vissimpark\\\\VISSIM_configs\\\\baseline prototype\\\\single_volume_runs\\\\net_vol_10000\\\\prototype.inpx'"
      ]
     },
     "execution_count": 3,
     "metadata": {},
     "output_type": "execute_result"
    }
   ],
   "source": [
    "experiment_directory + \"\\\\\" + exps[0] + \"\\\\prototype.inpx\""
   ]
  },
  {
   "cell_type": "code",
   "execution_count": null,
   "id": "4711f206",
   "metadata": {},
   "outputs": [],
   "source": [
    "for exp in exps:\n",
    "\n",
    "    ## Connecting the COM Server => Open a new Vissim Window:\n",
    "    Vissim = com.Dispatch(\"Vissim.Vissim\")\n",
    "\n",
    "    # Loads the VISSIM file and opens it\n",
    "    # Locat path where the file is\n",
    "\n",
    "    Vissim.LoadNet(experiment_directory + \"\\\\\" + exp + \"\\\\prototype.inpx\")\n",
    "    Vissim.LoadLayout(experiment_directory + \"\\\\\" + exp + \"\\\\prototype.layx\")\n",
    "\n",
    "    #Vissim.LoadNet(\"C:\\\\Users\\\\chase\\\\Documents\\\\vissimpark\\\\VISSIM_configs\\\\baseline prototype\\\\base_config\\\\prototype.inpx\")\n",
    "    #Vissim.LoadLayout(\"C:\\\\Users\\\\chase\\\\Documents\\\\vissimpark\\\\VISSIM_configs\\\\baseline prototype\\\\base_config\\\\prototype.layx\")\n",
    "\n",
    "    # Delete all previous simulation runs first:\n",
    "    for simRun in Vissim.Net.SimulationRuns:\n",
    "        Vissim.Net.SimulationRuns.RemoveSimulationRun(simRun)\n",
    "\n",
    "    Vissim.Simulation.SetAttValue('RandSeed', 1) # Note: RandSeed 0 is not allowed\n",
    "    Vissim.Simulation.RunContinuous()\n",
    "\n",
    "    Vissim.ResumeUpdateGUI(False); # allow updating of the complete Vissim workspace (network editor, list, chart and signal time table windows)\n",
    "    Vissim.Graphics.CurrentNetworkWindow.SetAttValue(\"QuickMode\",1) # activate QuickMode\n",
    "\n",
    "    #Vissim.Close() this method doesn't exist but we'll see if results collide across exp directories\n",
    "    Vissim = None #to be sure a new window is started"
   ]
  },
  {
   "cell_type": "code",
   "execution_count": null,
   "id": "714b3c90",
   "metadata": {},
   "outputs": [],
   "source": []
  }
 ],
 "metadata": {
  "kernelspec": {
   "display_name": "Python 3",
   "language": "python",
   "name": "python3"
  },
  "language_info": {
   "codemirror_mode": {
    "name": "ipython",
    "version": 3
   },
   "file_extension": ".py",
   "mimetype": "text/x-python",
   "name": "python",
   "nbconvert_exporter": "python",
   "pygments_lexer": "ipython3",
   "version": "3.8.8"
  }
 },
 "nbformat": 4,
 "nbformat_minor": 5
}
