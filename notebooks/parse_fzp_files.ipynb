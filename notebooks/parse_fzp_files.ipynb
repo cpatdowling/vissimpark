{
 "cells": [
  {
   "cell_type": "markdown",
   "id": "d3925234",
   "metadata": {},
   "source": [
    "This cell sets some notebook parameters."
   ]
  },
  {
   "cell_type": "code",
   "execution_count": 18,
   "id": "7343e678",
   "metadata": {},
   "outputs": [
    {
     "data": {
      "text/html": [
       "\n",
       "<style>\n",
       "    div#notebook-container    { width: 95%; }\n",
       "    div#menubar-container     { width: 65%; }\n",
       "    div#maintoolbar-container { width: 99%; }\n",
       "</style>\n"
      ],
      "text/plain": [
       "<IPython.core.display.HTML object>"
      ]
     },
     "metadata": {},
     "output_type": "display_data"
    },
    {
     "name": "stdout",
     "output_type": "stream",
     "text": [
      "The autoreload extension is already loaded. To reload it, use:\n",
      "  %reload_ext autoreload\n"
     ]
    }
   ],
   "source": [
    "#cells will fill entire width of the browser\n",
    "from IPython.display import display, HTML\n",
    "\n",
    "display(HTML(data=\"\"\"\n",
    "<style>\n",
    "    div#notebook-container    { width: 95%; }\n",
    "    div#menubar-container     { width: 65%; }\n",
    "    div#maintoolbar-container { width: 99%; }\n",
    "</style>\n",
    "\"\"\"))\n",
    "\n",
    "#Tells Jupyter to reload custom classes from scratch everytime an import cell is run, if you edit a custom class\n",
    "#between imports Jupyter would otherwise need to be restarted completely. Buyer beware: old class objects in the \n",
    "#current namespace will cause errors at execution\n",
    "%load_ext autoreload\n",
    "%autoreload 2\n",
    "\n",
    "#switches matplotlib to show plots in the browser rather than opening a new window\n",
    "%matplotlib inline\n",
    "\n",
    "#always forget to do this for better looking plots\n",
    "#import seaborn\n",
    "#seaborn.set()"
   ]
  },
  {
   "cell_type": "markdown",
   "id": "00f24ac7",
   "metadata": {},
   "source": [
    "Importing libraries"
   ]
  },
  {
   "cell_type": "code",
   "execution_count": 19,
   "id": "fc28450d",
   "metadata": {},
   "outputs": [],
   "source": [
    "import numpy as np\n",
    "import pandas as pd\n",
    "import os\n",
    "import matplotlib.pyplot as plt\n",
    "\n",
    "#passive library that generates nicer looking plots\n",
    "import seaborn\n",
    "seaborn.set()"
   ]
  },
  {
   "cell_type": "markdown",
   "id": "b687b8ae",
   "metadata": {},
   "source": [
    "### Function Definitions"
   ]
  },
  {
   "cell_type": "code",
   "execution_count": 89,
   "id": "8d67f43d",
   "metadata": {},
   "outputs": [],
   "source": [
    "def pandas_parse_fzp_vissim_vehicle_records(filename):\n",
    "    #this function parses a vehicle records fzp file and \n",
    "    #reads the data into a pandas dataframe\n",
    "    \n",
    "    #FZP file notes\n",
    "    #lines beginning with * are comments\n",
    "    #escape character \\ is not an escape character (VISSIM sucks)\n",
    "    #line beginning with $ is header\n",
    "    #data is ; delimited\n",
    "    #dataframe will come back with all strings as data\n",
    "\n",
    "    data = []\n",
    "    \n",
    "    with open(filename, 'r') as d:\n",
    "        for line in d:\n",
    "            if line[0] == \"*\":\n",
    "                pass\n",
    "            elif line[0:8] == \"$VEHICLE\": #column header doesn't precisely correspond to columns\n",
    "                header = line.replace(\"\\\\\",\"_\").strip().split(\";\") #VISSIM uses stupid escape characters in stupid places\n",
    "                header[0] = header[0].split(\":\")[1] #getting rid of garbage at start of column header\n",
    "            elif line[0] == \"$\":\n",
    "                pass\n",
    "            else:       \n",
    "                data.append(line.strip().split(\";\"))\n",
    "                \n",
    "    out_frame = pd.DataFrame(data)\n",
    "    out_frame = out_frame.drop(labels=0, axis=0) #ends up reading first line anyway because of garbage unicode\n",
    "    out_frame.columns = header\n",
    "    \n",
    "    return(out_frame)"
   ]
  },
  {
   "cell_type": "markdown",
   "id": "a71e3cc5",
   "metadata": {},
   "source": [
    "### Reading an FZP file"
   ]
  },
  {
   "cell_type": "code",
   "execution_count": 111,
   "id": "60e863fe",
   "metadata": {},
   "outputs": [],
   "source": [
    "datapath = \"C:\\\\Users\\\\chase\\\\Documents\\\\vissimpark\\\\VISSIM_configs\\\\VISSIM August\\\\Scenario 1\" #path to the location of the FZP file you want to read\n",
    "filename = \"SLU-fnl-baseline_001.fzp\" #FZP file you want to read\n",
    "\n",
    "vehicle_records = pandas_parse_fzp_vissim_vehicle_records(os.path.join(datapath, filename)) #os.path.join is ambigious to operating system so put whatever path definition into datapath you need"
   ]
  },
  {
   "cell_type": "markdown",
   "id": "353a8846",
   "metadata": {},
   "source": [
    "### Plot parking times"
   ]
  },
  {
   "cell_type": "code",
   "execution_count": null,
   "id": "cb6c365b",
   "metadata": {},
   "outputs": [],
   "source": [
    "#first we'll find out the maximum vehicle index number 'NO'\n",
    "max_vehicle = max(np.array(vehicle_records['NO'].values, dtype=np.int64))\n",
    "\n",
    "#store dwell times by vehicle type: key is vehicle type number, value is a list of a dwell times\n",
    "parked_times_by_type = {}\n",
    "\n",
    "for i in range(max_vehicle+1):\n",
    "    data = vehicle_records.loc[(vehicle_records['NO'] == str(i)) & (vehicle_records['PARKSTATE'] == 'Parked')] #here we create a temporary dataframe \n",
    "    try:\n",
    "        #park_time = float(data.iloc[-1]['SIMSEC']) - float(data.iloc[0]['SIMSEC'])\n",
    "        park_time = float(data.iloc[0]['DWELLTM']) #first value that appears in table seems to be total dwell time and counts down with each subsequent record value for that vehicle\n",
    "        vtype = data.iloc[0]['VEHTYPE'] #grab the vehicle type\n",
    "        if vtype not in parked_times_by_type:\n",
    "            parked_times_by_type[vtype] = [park_time]\n",
    "        else:\n",
    "            parked_times_by_type[vtype].append(park_time)\n",
    "    except:\n",
    "        pass"
   ]
  },
  {
   "cell_type": "code",
   "execution_count": null,
   "id": "705cb829",
   "metadata": {},
   "outputs": [],
   "source": [
    "#plot the histogram of dwell times by vehicle type\n",
    "\n",
    "for i in parked_times_by_type:\n",
    "    plt.hist(parked_times_by_type[i], label=i)\n",
    "plt.legend()    \n",
    "plt.title(\"Distribution of parking times in sim seconds\")"
   ]
  },
  {
   "cell_type": "markdown",
   "id": "e33fc9ab",
   "metadata": {},
   "source": [
    "### Occupancy measurement by space"
   ]
  },
  {
   "cell_type": "code",
   "execution_count": 92,
   "id": "5326e9fb",
   "metadata": {},
   "outputs": [],
   "source": [
    "#read parking_lot_allocations into memory\n",
    "\n",
    "datapath = \"C:\\\\Users\\\\chase\\\\Documents\\\\vissimpark\\\\data\" #path to the location of the allocation file you want to read\n",
    "filename = \"parking_lot_allocations.xlsx\"\n",
    "\n",
    "with open(os.path.join(datapath, filename), 'rb') as d:\n",
    "    parking_lot_allocations = pd.read_excel(d)"
   ]
  },
  {
   "cell_type": "markdown",
   "id": "551ce06f",
   "metadata": {},
   "source": [
    "Vehicle records are measured by event and then discretized by some fixed measurement window we need to instantiate a series of fixed time bins and fill in whether or not a space is occupied given asynchronous measurements in the vehicle records"
   ]
  },
  {
   "cell_type": "code",
   "execution_count": 96,
   "id": "59469355",
   "metadata": {},
   "outputs": [
    {
     "name": "stdout",
     "output_type": "stream",
     "text": [
      "Reading parking space: 16\n",
      "Reading parking space: 17\n",
      "Reading parking space: 18\n",
      "Reading parking space: 20\n",
      "Reading parking space: 24\n",
      "Reading parking space: 36\n",
      "Reading parking space: 37\n",
      "Reading parking space: 39\n",
      "Reading parking space: 41\n",
      "Reading parking space: 42\n",
      "Reading parking space: 43\n",
      "Reading parking space: 44\n"
     ]
    }
   ],
   "source": [
    "#get the maximum simulation time\n",
    "simtime = max([ float(i) for i in vehicle_records['SIMSEC'].values ]) \n",
    "\n",
    "#The list comprehension above is because I have to force every value in the array \n",
    "#to be a float since pandas reads fzp file data as all strings\n",
    "\n",
    "#instantiate a park/no-park indicator for each parking space\n",
    "\n",
    "parking_indicator = {}\n",
    "for index, row in parking_lot_allocations.iterrows():\n",
    "    parking_indicator[row[\"DESTPARKLOT\"]] = []\n",
    "    for i in range(0,int(simtime),1): #compute floor of integer simulation time (i.e. 4.9 = 4), iterate by 1\n",
    "        parking_indicator[row[\"DESTPARKLOT\"]].append(0)\n",
    "        \n",
    "#now fill in the parking_indicator with vehicle records data\n",
    "for dest_space in parking_indicator:\n",
    "    print(\"Reading parking space: \" + str(dest_space))\n",
    "    \n",
    "    #we need to keep track of unique arrivals to this parking space\n",
    "    parking_records_tracker = []\n",
    "\n",
    "    #get all vehicle records this particular space when \"PARKED\" event is active and not \"en route\" or anything\n",
    "    data = vehicle_records.loc[(vehicle_records['DESTPARKLOT'] == str(dest_space)) & (vehicle_records['PARKSTATE'] == 'Parked')]\n",
    "    if len(data) > 0: #records are returned\n",
    "        for index, row in data.iterrows():\n",
    "            parking_tracker_key = str(row['NO']) + str(dest_space)\n",
    "            if parking_tracker_key not in parking_records_tracker:\n",
    "                #this is a new parking event\n",
    "                parking_records_tracker.append(parking_tracker_key)\n",
    "                curr_time = int(float(row['SIMSEC']))\n",
    "                park_time = int(float(row['DWELLTM'])) #this may exceed horizon of simulation\n",
    "                time_counter = 0\n",
    "                while time_counter < park_time:\n",
    "                    if curr_time + time_counter > len(parking_indicator[int(row[\"DESTPARKLOT\"])]) - 1:\n",
    "                        break\n",
    "                    else:\n",
    "                        parking_indicator[int(row[\"DESTPARKLOT\"])][curr_time + time_counter] = 1\n",
    "                        time_counter += 1\n",
    "            else:\n",
    "                pass\n",
    "    else:\n",
    "        pass"
   ]
  },
  {
   "cell_type": "code",
   "execution_count": 110,
   "id": "4743e004",
   "metadata": {},
   "outputs": [
    {
     "name": "stdout",
     "output_type": "stream",
     "text": [
      "Space \t | \t Occupancy\n",
      "---------------------------------\n",
      "16\t | \t0.0\n",
      "17\t | \t40.01296416334846\n",
      "18\t | \t87.13769793499398\n",
      "20\t | \t93.1475136586721\n",
      "24\t | \t86.67469210112047\n",
      "36\t | \t84.58190573201222\n",
      "37\t | \t81.72978979535142\n",
      "39\t | \t65.87647004352254\n",
      "41\t | \t85.8598018335031\n",
      "42\t | \t17.307158070191683\n",
      "43\t | \t69.17307158070192\n",
      "44\t | \t48.37484952310399\n"
     ]
    }
   ],
   "source": [
    "print(\"Space \\t | \\t Occupancy\")\n",
    "print(\"---------------------------------\")\n",
    "for space in parking_indicator:\n",
    "    print(str(space) + \"\\t | \\t\" + str(np.mean(parking_indicator[space])*100.0))"
   ]
  },
  {
   "cell_type": "markdown",
   "id": "0a13d289",
   "metadata": {},
   "source": [
    "### Parking success rate"
   ]
  },
  {
   "cell_type": "code",
   "execution_count": 105,
   "id": "39793429",
   "metadata": {},
   "outputs": [],
   "source": [
    "#divide the number of \"declined\" by the total number of \"parked\" and \"declined\"\n",
    "success_by_space = {}\n",
    "\n",
    "for index, row in parking_lot_allocations.iterrows():\n",
    "    dest_space = row[\"DESTPARKLOT\"]\n",
    "    success_by_space[dest_space] = []\n",
    "    \n",
    "    #keep track of accepted and declined parking\n",
    "    declines = set() \n",
    "    accepts = set()\n",
    "    \n",
    "    #search for all vehicle records at the destination space\n",
    "    data = vehicle_records.loc[vehicle_records['DESTPARKLOT'] == str(dest_space)]\n",
    "    for jindex, jrow in data.iterrows():\n",
    "        vehicle_num = jrow['NO']\n",
    "        status = jrow['PARKSTATE']\n",
    "        if status == 'Parking request declined':\n",
    "            declines.add(vehicle_num)\n",
    "        elif status == 'Parked':\n",
    "            accepts.add(vehicle_num)\n",
    "        else:\n",
    "            pass\n",
    "        \n",
    "    success_by_space[dest_space] = [declines, accepts]"
   ]
  },
  {
   "cell_type": "code",
   "execution_count": 109,
   "id": "fc12e2b6",
   "metadata": {},
   "outputs": [
    {
     "name": "stdout",
     "output_type": "stream",
     "text": [
      "Space \t | \t Success Rate\n",
      "---------------------------------\n",
      "16\t | \t100.0\n",
      "17\t | \t100.0\n",
      "18\t | \t100.0\n",
      "20\t | \t100.0\n",
      "24\t | \t100.0\n",
      "36\t | \t100.0\n",
      "37\t | \t100.0\n",
      "39\t | \t100.0\n",
      "41\t | \t100.0\n",
      "42\t | \t100.0\n",
      "43\t | \t100.0\n",
      "44\t | \t100.0\n"
     ]
    }
   ],
   "source": [
    "print(\"Space \\t | \\t Success Rate\")\n",
    "print(\"---------------------------------\")\n",
    "\n",
    "for space in success_by_space:\n",
    "    s_rate = float(len(success_by_space[dest_space][1])) / (float(len(success_by_space[dest_space][0])) + float(len(success_by_space[dest_space][1])))\n",
    "    print(str(space) + \"\\t | \\t\" + str(s_rate*100.0))"
   ]
  }
 ],
 "metadata": {
  "kernelspec": {
   "display_name": "Python 3",
   "language": "python",
   "name": "python3"
  },
  "language_info": {
   "codemirror_mode": {
    "name": "ipython",
    "version": 3
   },
   "file_extension": ".py",
   "mimetype": "text/x-python",
   "name": "python",
   "nbconvert_exporter": "python",
   "pygments_lexer": "ipython3",
   "version": "3.8.8"
  }
 },
 "nbformat": 4,
 "nbformat_minor": 5
}
